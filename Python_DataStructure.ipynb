{
  "nbformat": 4,
  "nbformat_minor": 0,
  "metadata": {
    "colab": {
      "name": "Python DataStructure.ipynb",
      "provenance": [],
      "authorship_tag": "ABX9TyP6TSPZ2BLYTFEFuIiDzx1V",
      "include_colab_link": true
    },
    "kernelspec": {
      "name": "python3",
      "display_name": "Python 3"
    },
    "language_info": {
      "name": "python"
    }
  },
  "cells": [
    {
      "cell_type": "markdown",
      "metadata": {
        "id": "view-in-github",
        "colab_type": "text"
      },
      "source": [
        "<a href=\"https://colab.research.google.com/github/Ibrahim341998/Python-DataStructure/blob/main/Python_DataStructure.ipynb\" target=\"_parent\"><img src=\"https://colab.research.google.com/assets/colab-badge.svg\" alt=\"Open In Colab\"/></a>"
      ]
    },
    {
      "cell_type": "markdown",
      "source": [
        "# Data Structure\n",
        "### A data structure is a particular way of organizing data in a computer so that it can be used effectively."
      ],
      "metadata": {
        "id": "_QJYpzNoSHMq"
      }
    },
    {
      "cell_type": "markdown",
      "source": [
        "# Arrays\n",
        "### Other than some generic containers like list, Python in its defination also handle containers with specified data types. The array can be handled in python by a module named \"array\". They can be useful when we have to manipulate only specific data types values.\n",
        "## Operations:\n",
        "### 1. array(data type, value list)\n",
        "### 2. append()\n",
        "### 3. insert(i,x) "
      ],
      "metadata": {
        "id": "LwSi04lJT9VG"
      }
    },
    {
      "cell_type": "code",
      "source": [
        "import array\n",
        "\n",
        "arr = array.array('i',[1,2,3])\n",
        "\n",
        "print (\"the new created array is : \", end=\"\")\n",
        "for i in range(0,3):\n",
        "  print(arr[i], end=\"\")\n",
        "\n",
        "print('\\r')\n",
        "\n",
        "arr.append(4);\n",
        "\n",
        "print(\"the append array is : \", end=\"\")\n",
        "for i in range(0, 4):\n",
        "  print(arr[i], end=\"\")\n",
        "\n",
        "arr.insert(2,5);\n",
        "\n",
        "print('\\r')\n",
        "\n",
        "print(\"The array after insertion is : \",end=\"\")\n",
        "for i in range (0,5):\n",
        "  print(arr[i],end=\"\")"
      ],
      "metadata": {
        "colab": {
          "base_uri": "https://localhost:8080/"
        },
        "id": "US-lmcKRS96e",
        "outputId": "8f110278-d891-4d52-a144-f3f26c5f0152"
      },
      "execution_count": 1,
      "outputs": [
        {
          "output_type": "stream",
          "name": "stdout",
          "text": [
            "the new created array is : 123\r\n",
            "the append array is : 1234\r\n",
            "The array after insertion is : 12534"
          ]
        }
      ]
    },
    {
      "cell_type": "markdown",
      "source": [
        "### 4. pop()\n",
        "### 5. remove()"
      ],
      "metadata": {
        "id": "SUQ4qKoSW-IJ"
      }
    },
    {
      "cell_type": "code",
      "source": [
        "import array\n",
        "\n",
        "arr = array.array('i',[1,2,3,1,5])\n",
        "\n",
        "print(\"The new created array is : \",end=\"\")\n",
        "for i in range(0,5):\n",
        "  print(arr[i],end=\"\")\n",
        "\n",
        "print(\"\\r\")\n",
        "\n",
        "print(\"The array after popping is: \",end=\"\")\n",
        "for i in range(0,4):\n",
        "  print(arr[i],end=\"\")\n",
        "\n",
        "print(\"\\r\")\n",
        "\n",
        "arr.remove(1)\n",
        "\n",
        "print(\"The array after removing is : \",end=\"\")\n",
        "for i in range(0,3):\n",
        "  print(arr[i],end=\"\")"
      ],
      "metadata": {
        "colab": {
          "base_uri": "https://localhost:8080/"
        },
        "id": "U4cgo2dvW3F4",
        "outputId": "974a6c1b-16ff-4b35-92eb-f4b96d72b44b"
      },
      "execution_count": 2,
      "outputs": [
        {
          "output_type": "stream",
          "name": "stdout",
          "text": [
            "The new created array is : 12315\r\n",
            "The array after popping is: 1231\r\n",
            "The array after removing is : 231"
          ]
        }
      ]
    },
    {
      "cell_type": "markdown",
      "source": [
        "### index()\n",
        "### reverse()"
      ],
      "metadata": {
        "id": "aspG9jibbW19"
      }
    },
    {
      "cell_type": "code",
      "source": [
        "import array\n",
        "\n",
        "arr = array.array('i',[1,2,3,1,2,5])\n",
        "\n",
        "print(\"The created array is : \",end=\"\")\n",
        "for i in range (0,6):\n",
        "  print(arr[i],end=\"\")\n",
        "\n",
        "print(\"\\r\")\n",
        "\n",
        "print(\"The index of 1st occurence of 2 is : \",end=\"\")\n",
        "print(arr.index(2))\n",
        "\n",
        "arr.reverse()\n",
        "\n",
        "print(\"The array after reversing is : \", end=\"\")\n",
        "for i in range (0,6):\n",
        "  print(arr[i],end=\"\")"
      ],
      "metadata": {
        "colab": {
          "base_uri": "https://localhost:8080/"
        },
        "id": "2p1O_pC3bPom",
        "outputId": "1e351cbd-6efa-45e7-d55b-8428d2f62e19"
      },
      "execution_count": 3,
      "outputs": [
        {
          "output_type": "stream",
          "name": "stdout",
          "text": [
            "The created array is : 123125\r\n",
            "The index of 1st occurence of 2 is : 1\n",
            "The array after reversing is : 521321"
          ]
        }
      ]
    },
    {
      "cell_type": "markdown",
      "source": [
        "### typecode\n",
        "### itemsize\n",
        "### buffer_info()"
      ],
      "metadata": {
        "id": "wvcguSzAjcvc"
      }
    },
    {
      "cell_type": "code",
      "source": [
        "import array \n",
        "arr = array.array('i',[1,2,3,1,2,3])\n",
        "print(\"the datatype of the array is : \",end =\"\")\n",
        "print (arr.typecode)\n",
        "print('\\r')\n",
        "print(\"The itemsize of array is : \", end='')\n",
        "print(arr.itemsize)\n",
        "print('\\r')\n",
        "print(\"The buffer info. of array is : \",end=\"\")\n",
        "print(arr.buffer_info())"
      ],
      "metadata": {
        "colab": {
          "base_uri": "https://localhost:8080/"
        },
        "id": "rkxrknTfdDkK",
        "outputId": "b05a3082-e2d9-4a92-eacd-d27c41743615"
      },
      "execution_count": 5,
      "outputs": [
        {
          "output_type": "stream",
          "name": "stdout",
          "text": [
            "the datatype of the array is : i\n",
            "\r\n",
            "The itemsize of array is : 4\n",
            "\r\n",
            "The buffer info. of array is : (139803585067952, 6)\n"
          ]
        }
      ]
    },
    {
      "cell_type": "code",
      "source": [
        "# Instead of importing array we can also * to import array.\n",
        "from array import *\n",
        "\n",
        "arr = array('i',[1,2,3,1,2,3])\n",
        "print(arr)"
      ],
      "metadata": {
        "colab": {
          "base_uri": "https://localhost:8080/"
        },
        "id": "WBL7bQGllTPN",
        "outputId": "d8cb0f6b-5c32-4726-eb9b-9f768e44b35b"
      },
      "execution_count": 7,
      "outputs": [
        {
          "output_type": "stream",
          "name": "stdout",
          "text": [
            "array('i', [1, 2, 3, 1, 2, 3])\n"
          ]
        }
      ]
    },
    {
      "cell_type": "markdown",
      "source": [
        "### count()\n",
        "### extend(arr)"
      ],
      "metadata": {
        "id": "RrwtrKSnmLvl"
      }
    },
    {
      "cell_type": "code",
      "source": [
        "from array import *\n",
        "arr1 = array('i',[1,2,3,1,2,5])\n",
        "arr2 = array('i',[1,2,3])\n",
        "print(\"The occurence of 1 in array is : \", end=\"\")\n",
        "print(arr1.count(1))\n",
        "print('\\r')\n",
        "arr1.extend(arr2)\n",
        "print(\"The modified array is : \")\n",
        "for i in range (0,9):\n",
        "  print(arr1[i])"
      ],
      "metadata": {
        "colab": {
          "base_uri": "https://localhost:8080/"
        },
        "id": "nB_U6Q0Nl4hP",
        "outputId": "d099786c-188a-4103-f20d-85f2efe3ffff"
      },
      "execution_count": 9,
      "outputs": [
        {
          "output_type": "stream",
          "name": "stdout",
          "text": [
            "The occurence of 1 in array is : 2\n",
            "\r\n",
            "The modified array is : \n",
            "1\n",
            "2\n",
            "3\n",
            "1\n",
            "2\n",
            "5\n",
            "1\n",
            "2\n",
            "3\n"
          ]
        }
      ]
    },
    {
      "cell_type": "markdown",
      "source": [
        "### fromlist() -----> using fromlist() to append list at the end of array\n",
        "### tolist() -----> convert array to list"
      ],
      "metadata": {
        "id": "mxyrOf4RoDf5"
      }
    },
    {
      "cell_type": "code",
      "source": [
        "from array import *\n",
        "arr = array('i',[1,2,3,1,2,5])\n",
        "print(\"The created array is :\",end=\"\")\n",
        "print(arr)\n",
        "print('\\r')\n",
        "li = [1,2,3]\n",
        "arr.fromlist(li)\n",
        "print(\"The modefied array is :\",end=\"\")\n",
        "for i in range (0,9):\n",
        "  print(arr[i],end=\"\")\n",
        "li2 = arr.tolist()\n",
        "print('\\r')\n",
        "print(\"The new list created is : \", end=\"\")\n",
        "for i in range(0,len(li2)):\n",
        "  print(li2[i],end=\"\")"
      ],
      "metadata": {
        "colab": {
          "base_uri": "https://localhost:8080/"
        },
        "id": "_bRc5S5Sngrk",
        "outputId": "45f4a5d5-c85c-4e05-86d6-cab8b552f9f3"
      },
      "execution_count": 10,
      "outputs": [
        {
          "output_type": "stream",
          "name": "stdout",
          "text": [
            "The created array is :array('i', [1, 2, 3, 1, 2, 5])\n",
            "\r\n",
            "The modefied array is :123125123\r\n",
            "The new list created is : 123125123"
          ]
        }
      ]
    },
    {
      "cell_type": "code",
      "source": [
        "# Python program to count the number of increments\n",
        "c1 = 0\n",
        "c2 = 0\n",
        "\n",
        "for i in range (10):\n",
        "  for j in range (100):\n",
        "    c1 += 1\n",
        "  c1 += 1\n",
        "\n",
        "for i in range(100):\n",
        "  for j in range(10):\n",
        "    c2 += 1\n",
        "  c2 += 1\n",
        "\n",
        "print(\"Count in First = \",c1)\n",
        "print(\"Count in Second =\",c2)"
      ],
      "metadata": {
        "colab": {
          "base_uri": "https://localhost:8080/"
        },
        "id": "84Y8PjsZtKID",
        "outputId": "233c7707-3c4f-46cc-ae88-69c061542a4b"
      },
      "execution_count": 11,
      "outputs": [
        {
          "output_type": "stream",
          "name": "stdout",
          "text": [
            "Count in First =  1010\n",
            "Count in Second = 1100\n"
          ]
        }
      ]
    },
    {
      "cell_type": "code",
      "source": [
        "# Python program to count the number of comparison\n",
        "# operations executed by FIRST and SECOND \n",
        "c1=1\n",
        "c2=1\n",
        "i=0\n",
        "while (i < c1 and i < 10):\n",
        "  j = -1\n",
        "  c1 += 1\n",
        "  while (j < c1 and j < 100):\n",
        "    c1 += 1\n",
        "    j += 1\n",
        "  i += 1\n",
        "\n",
        "i = 0\n",
        "while (i < c2 and i < 100):\n",
        "  j = -1\n",
        "  c2 += 1\n",
        "  while (j < c2 and j < 10):\n",
        "    c2 += 1\n",
        "    j += 1\n",
        "  i += 1\n",
        "\n",
        "print(\" Count fot FIRST \",c1)\n",
        "print(\" Count fot SECOND \",c2)"
      ],
      "metadata": {
        "colab": {
          "base_uri": "https://localhost:8080/"
        },
        "id": "qqJXwarSvDHs",
        "outputId": "aa1eea48-d049-4fa7-871f-cdea44f1f7d0"
      },
      "execution_count": 14,
      "outputs": [
        {
          "output_type": "stream",
          "name": "stdout",
          "text": [
            " Count fot FIRST  1021\n",
            " Count fot SECOND  1201\n"
          ]
        }
      ]
    },
    {
      "cell_type": "code",
      "source": [
        ""
      ],
      "metadata": {
        "id": "T60jG4YXydwV"
      },
      "execution_count": null,
      "outputs": []
    }
  ]
}