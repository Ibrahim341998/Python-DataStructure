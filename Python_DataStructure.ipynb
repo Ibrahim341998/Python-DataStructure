{
  "nbformat": 4,
  "nbformat_minor": 0,
  "metadata": {
    "colab": {
      "name": "Python DataStructure.ipynb",
      "provenance": [],
      "authorship_tag": "ABX9TyNMGPPcN9JhBIf5NVm0gR0g",
      "include_colab_link": true
    },
    "kernelspec": {
      "name": "python3",
      "display_name": "Python 3"
    },
    "language_info": {
      "name": "python"
    }
  },
  "cells": [
    {
      "cell_type": "markdown",
      "metadata": {
        "id": "view-in-github",
        "colab_type": "text"
      },
      "source": [
        "<a href=\"https://colab.research.google.com/github/Ibrahim341998/Python-DataStructure/blob/main/Python_DataStructure.ipynb\" target=\"_parent\"><img src=\"https://colab.research.google.com/assets/colab-badge.svg\" alt=\"Open In Colab\"/></a>"
      ]
    },
    {
      "cell_type": "markdown",
      "source": [
        "# STACK USING LIST\n",
        "### append() =======> Push operations\n",
        "### pop() =======> Pop operations"
      ],
      "metadata": {
        "id": "bG3Q0T3PbEm4"
      }
    },
    {
      "cell_type": "code",
      "source": [
        "stack = []\n",
        "def push():\n",
        "  if len(stack) == n:\n",
        "    print(\"stack is full!\")\n",
        "  else:\n",
        "    element = input(\"Enter the element:\")\n",
        "    stack.append(element)\n",
        "    print(stack)\n",
        "\n",
        "def pop():\n",
        "  if not stack:\n",
        "    print(\"Stack is emppty!\")\n",
        "  else:\n",
        "    e = stack.pop()\n",
        "    print(\"removed element:\",e)\n",
        "    print(stack)\n",
        "\n",
        "n = int(input(\"Enter the limit of the stack: \"))\n",
        "while True:\n",
        "  print(\"Select the operation 1.push 2.pop 3.quit\")\n",
        "  choice = int(input())\n",
        "  if choice == 1:\n",
        "    push()\n",
        "  elif choice == 2:\n",
        "    pop()\n",
        "  elif choice == 3:\n",
        "    break\n",
        "  else:\n",
        "    print(\"Enter the correct Operation!!\")"
      ],
      "metadata": {
        "colab": {
          "base_uri": "https://localhost:8080/"
        },
        "id": "NDOVXy1KbNxS",
        "outputId": "371d5396-303a-4549-9120-f3fcd30b8ac8"
      },
      "execution_count": 11,
      "outputs": [
        {
          "name": "stdout",
          "output_type": "stream",
          "text": [
            "Enter the limit of the stack: 2\n",
            "Select the operation 1.push 2.pop 3.quit\n",
            "1\n",
            "Enter the element:10\n",
            "['10']\n",
            "Select the operation 1.push 2.pop 3.quit\n",
            "1\n",
            "Enter the element:20\n",
            "['10', '20']\n",
            "Select the operation 1.push 2.pop 3.quit\n",
            "1\n",
            "stack is full!\n",
            "Select the operation 1.push 2.pop 3.quit\n",
            "2\n",
            "removed element: 20\n",
            "['10']\n",
            "Select the operation 1.push 2.pop 3.quit\n",
            "3\n"
          ]
        }
      ]
    },
    {
      "cell_type": "markdown",
      "source": [
        ""
      ],
      "metadata": {
        "id": "93e4lGq6cYhO"
      }
    },
    {
      "cell_type": "code",
      "source": [
        ""
      ],
      "metadata": {
        "id": "bP0FCVmCbgAF"
      },
      "execution_count": null,
      "outputs": []
    }
  ]
}