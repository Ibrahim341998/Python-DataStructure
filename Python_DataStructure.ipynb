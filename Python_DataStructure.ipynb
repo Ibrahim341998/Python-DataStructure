{
  "nbformat": 4,
  "nbformat_minor": 0,
  "metadata": {
    "colab": {
      "name": "Python DataStructure.ipynb",
      "provenance": [],
      "authorship_tag": "ABX9TyN5RtKnyldvHXJHasQ+0glz",
      "include_colab_link": true
    },
    "kernelspec": {
      "name": "python3",
      "display_name": "Python 3"
    },
    "language_info": {
      "name": "python"
    }
  },
  "cells": [
    {
      "cell_type": "markdown",
      "metadata": {
        "id": "view-in-github",
        "colab_type": "text"
      },
      "source": [
        "<a href=\"https://colab.research.google.com/github/Ibrahim341998/Python-DataStructure/blob/main/Python_DataStructure.ipynb\" target=\"_parent\"><img src=\"https://colab.research.google.com/assets/colab-badge.svg\" alt=\"Open In Colab\"/></a>"
      ]
    },
    {
      "cell_type": "markdown",
      "source": [
        "# Data Structure\n",
        "### A data structure is a particular way of organizing data in a computer so that it can be used effectively."
      ],
      "metadata": {
        "id": "_QJYpzNoSHMq"
      }
    },
    {
      "cell_type": "markdown",
      "source": [
        "# Arrays\n",
        "### Other than some generic containers like list, Python in its defination also handle containers with specified data types. The array can be handled in python by a module named \"array\". They can be useful when we have to manipulate only specific data types values.\n",
        "## Operations:\n",
        "### 1. array(data type, value list)\n",
        "### 2. append()\n",
        "### 3. insert(i,x) "
      ],
      "metadata": {
        "id": "LwSi04lJT9VG"
      }
    },
    {
      "cell_type": "code",
      "source": [
        "import array\n",
        "\n",
        "arr = array.array('i',[1,2,3])\n",
        "\n",
        "print (\"the new created array is : \", end=\"\")\n",
        "for i in range(0,3):\n",
        "  print(arr[i], end=\"\")\n",
        "\n",
        "print('\\r')\n",
        "\n",
        "arr.append(4);\n",
        "\n",
        "print(\"the append array is : \", end=\"\")\n",
        "for i in range(0, 4):\n",
        "  print(arr[i], end=\"\")\n",
        "\n",
        "arr.insert(2,5);\n",
        "\n",
        "print('\\r')\n",
        "\n",
        "print(\"The array after insertion is : \",end=\"\")\n",
        "for i in range (0,5):\n",
        "  print(arr[i],end=\"\")"
      ],
      "metadata": {
        "colab": {
          "base_uri": "https://localhost:8080/"
        },
        "id": "US-lmcKRS96e",
        "outputId": "8f110278-d891-4d52-a144-f3f26c5f0152"
      },
      "execution_count": 1,
      "outputs": [
        {
          "output_type": "stream",
          "name": "stdout",
          "text": [
            "the new created array is : 123\r\n",
            "the append array is : 1234\r\n",
            "The array after insertion is : 12534"
          ]
        }
      ]
    },
    {
      "cell_type": "markdown",
      "source": [
        "### 4. pop()\n",
        "### 5. remove()"
      ],
      "metadata": {
        "id": "SUQ4qKoSW-IJ"
      }
    },
    {
      "cell_type": "code",
      "source": [
        "import array\n",
        "\n",
        "arr = array.array('i',[1,2,3,1,5])\n",
        "\n",
        "print(\"The new created array is : \",end=\"\")\n",
        "for i in range(0,5):\n",
        "  print(arr[i],end=\"\")\n",
        "\n",
        "print(\"\\r\")\n",
        "\n",
        "print(\"The array after popping is: \",end=\"\")\n",
        "for i in range(0,4):\n",
        "  print(arr[i],end=\"\")\n",
        "\n",
        "print(\"\\r\")\n",
        "\n",
        "arr.remove(1)\n",
        "\n",
        "print(\"The array after removing is : \",end=\"\")\n",
        "for i in range(0,3):\n",
        "  print(arr[i],end=\"\")"
      ],
      "metadata": {
        "colab": {
          "base_uri": "https://localhost:8080/"
        },
        "id": "U4cgo2dvW3F4",
        "outputId": "974a6c1b-16ff-4b35-92eb-f4b96d72b44b"
      },
      "execution_count": 2,
      "outputs": [
        {
          "output_type": "stream",
          "name": "stdout",
          "text": [
            "The new created array is : 12315\r\n",
            "The array after popping is: 1231\r\n",
            "The array after removing is : 231"
          ]
        }
      ]
    },
    {
      "cell_type": "markdown",
      "source": [
        "### index()\n",
        "### reverse()"
      ],
      "metadata": {
        "id": "aspG9jibbW19"
      }
    },
    {
      "cell_type": "code",
      "source": [
        ""
      ],
      "metadata": {
        "id": "2p1O_pC3bPom"
      },
      "execution_count": null,
      "outputs": []
    }
  ]
}